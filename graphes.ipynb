{
 "cells": [
  {
   "cell_type": "code",
   "execution_count": 4,
   "metadata": {},
   "outputs": [],
   "source": [
    "import networkx as nx\n",
    "import matplotlib.pyplot as plt\n",
    "\n",
    "OUTPUT_DIR = \"dossiers_git\"\n",
    "\n",
    "'''\n",
    "todo:\n",
    "commentaires\n",
    "\n",
    "stats:\n",
    "- définir les intervalles étoiles intéresent,\n",
    "- distribution des degrés entrants et degrés sortants et distribution totale\n",
    "[0, 5, 10], 0 degré 1, 5, degré 2, 10, degré 3..., (3 listes), (by networkX, degree_centrality)\n",
    "distribution : [0, 5, 10]/3\n",
    "les puits : noeuds sortant degré 0,\n",
    "ratio merge/commit\n",
    "ratio merge/total_noeuds\n",
    "ratio commit/total_noeuds\n",
    "autres...\n",
    "'''\n",
    "\n",
    "def load_graph(file_path):\n",
    "    graph = nx.read_edgelist(file_path, create_using=nx.DiGraph())\n",
    "    return graph\n",
    "\n",
    "def show_graph(graph):\n",
    "    print(graph)\n",
    "    plt.figure(figsize=(5, 55))\n",
    "    pos = nx.nx_pydot.pydot_layout(graph, prog='dot')\n",
    "    labels = {node: node[:7] for node in graph.nodes}\n",
    "    nodeColors = [\n",
    "        \"red\" if len(list(graph.predecessors(node))) > 1 else \"lightblue\" \n",
    "        for node in graph.nodes\n",
    "    ]\n",
    "\n",
    "    nx.draw(graph, pos, labels=labels, font_size=8, node_color= nodeColors)\n",
    "\n",
    "\n",
    "    plt.title(\"Commit Graph\")\n",
    "    plt.show()\n",
    "\n",
    "g_test = load_graph(\"dossiers_git/graphs/0-10/33964408\")"
   ]
  },
  {
   "cell_type": "code",
   "execution_count": 6,
   "metadata": {},
   "outputs": [
    {
     "name": "stdout",
     "output_type": "stream",
     "text": [
      "[3, 9847, 1448, 316, 106, 52, 37, 14, 16, 9, 5, 0, 3, 1, 2, 1, 1, 1, 1] [3, 8623, 3237] [0, 6, 7500, 3169, 792, 201, 78, 42, 29, 16, 11, 6, 3, 2, 1, 3, 0, 1, 1, 2] 2013 11863\n"
     ]
    }
   ],
   "source": [
    "def degree_entrant(G, normalize:bool = False):\n",
    "    vals = dict(G.in_degree()).values()\n",
    "    m = max(vals)\n",
    "    L = [0]*(m+1)\n",
    "    for val in vals:\n",
    "        L[val]+=1\n",
    "    \n",
    "    if normalize:\n",
    "        s=sum(L)\n",
    "        for i in range(m):\n",
    "            L[i]/=s\n",
    "\n",
    "    return L\n",
    "\n",
    "def degree_sortant(G, normalize:bool = False):\n",
    "    vals = dict(G.out_degree()).values()\n",
    "    m = max(vals)\n",
    "    L = [0]*(m+1)\n",
    "    for val in vals:\n",
    "        L[val]+=1\n",
    "\n",
    "    if normalize:\n",
    "        s=sum(L)\n",
    "        for i in range(m):\n",
    "            L[i]/=s\n",
    "\n",
    "    return L\n",
    "\n",
    "def degree_total(G, normalize:bool = False):\n",
    "    vals = dict(G.degree()).values()\n",
    "    m = max(vals)\n",
    "    L = [0]*(m+1)\n",
    "    for val in vals:\n",
    "        L[val]+=1\n",
    "\n",
    "    if normalize:\n",
    "        s=sum(L)\n",
    "        for i in range(m):\n",
    "            L[i]/=s\n",
    "\n",
    "    return L\n",
    "\n",
    "def nb_merge(G):\n",
    "    c = 0\n",
    "    for node in G.nodes:\n",
    "        if len(list(G.predecessors(node))) > 1:\n",
    "            c+=1\n",
    "    return c\n",
    "\n",
    "def nb_commit(G):\n",
    "    return G.number_of_nodes()\n",
    "\n",
    "print(degree_entrant(g_test), degree_sortant(g_test), degree_total(g_test),\n",
    "       nb_merge(g_test), nb_commit(g_test))"
   ]
  },
  {
   "cell_type": "code",
   "execution_count": 8,
   "metadata": {},
   "outputs": [
    {
     "data": {
      "text/plain": [
       "[52, 11863, 15, 3, 55, 8, 9, 7, 30, 7]"
      ]
     },
     "execution_count": 8,
     "metadata": {},
     "output_type": "execute_result"
    }
   ],
   "source": [
    "import os\n",
    "\n",
    "\n",
    "def get_by_star(stars:str, fun):\n",
    "    #graphs_path = os.path.join(OUTPUT_DIR, \"graphs\")\n",
    "    #info_star_folders = [f for f in os.listdir(graphs_path) if os.path.isdir(os.path.join(graphs_path, f))]\n",
    "\n",
    "\n",
    "    star_path = os.path.join(OUTPUT_DIR, \"graphs\",stars)\n",
    "\n",
    "    graphs_files = [f for f in os.listdir(star_path)]\n",
    "\n",
    "    return [fun(load_graph(os.path.join(star_path, file))) for file in graphs_files]\n",
    "\n",
    "\n",
    "get_by_star(\"0-10\", nb_commit)"
   ]
  },
  {
   "cell_type": "code",
   "execution_count": 9,
   "metadata": {},
   "outputs": [
    {
     "data": {
      "text/plain": [
       "0.06683804627249357"
      ]
     },
     "execution_count": 9,
     "metadata": {},
     "output_type": "execute_result"
    }
   ],
   "source": [
    "def ratio_merge_commit(stars:str):\n",
    "    merges = sum(get_by_star(stars, nb_merge))\n",
    "    commits= sum(get_by_star(stars, nb_commit))\n",
    "    return merges/commits\n",
    "\n",
    "\n",
    "ratio_merge_commit(\"50-100\")"
   ]
  },
  {
   "cell_type": "code",
   "execution_count": 10,
   "metadata": {},
   "outputs": [
    {
     "data": {
      "text/plain": [
       "([0.1672337953357125,\n",
       "  0.046686746987951805,\n",
       "  0.06330806954971022,\n",
       "  0.06683804627249357,\n",
       "  0.13423305761137716],\n",
       " ['0-10', '10-50', '100-500', '50-100', '500-1000'])"
      ]
     },
     "execution_count": 10,
     "metadata": {},
     "output_type": "execute_result"
    }
   ],
   "source": [
    "def get_graphs(fun):\n",
    "    graphs_path = os.path.join(OUTPUT_DIR, \"graphs\")\n",
    "    info_stars_folders = [f for f in os.listdir(graphs_path) if os.path.isdir(os.path.join(graphs_path, f))]\n",
    "    return [fun(stars) for stars in info_stars_folders], info_stars_folders\n",
    "\n",
    "get_graphs(ratio_merge_commit)"
   ]
  },
  {
   "cell_type": "code",
   "execution_count": 11,
   "metadata": {},
   "outputs": [],
   "source": [
    "import matplotlib.pyplot as plt\n",
    "\n",
    "def show_chart(fun):\n",
    "    l = get_graphs(fun)\n",
    "    plt.bar(l[1], l[0])\n",
    "    plt.xlabel(\"Range\")\n",
    "    plt.ylabel(\"Value\")\n",
    "    plt.title(\"Bar Chart\")\n",
    "    plt.show()"
   ]
  },
  {
   "cell_type": "code",
   "execution_count": 25,
   "metadata": {},
   "outputs": [
    {
     "data": {
      "image/png": "[encoded data removed]",
      "text/plain": [
       "<Figure size 640x480 with 1 Axes>"
      ]
     },
     "metadata": {},
     "output_type": "display_data"
    }
   ],
   "source": [
    "show_chart(ratio_merge_commit)"
   ]
  },
  {
   "cell_type": "code",
   "execution_count": 14,
   "metadata": {},
   "outputs": [
    {
     "data": {
      "text/plain": [
       "[[1, 51],\n",
       " [3, 9847, 1448, 316, 106, 52, 37, 14, 16, 9, 5, 0, 3, 1, 2, 1, 1, 1, 1],\n",
       " [1, 13, 1],\n",
       " [1, 2],\n",
       " [1, 53, 1],\n",
       " [1, 7],\n",
       " [1, 8],\n",
       " [1, 6],\n",
       " [1, 29],\n",
       " [1, 6]]"
      ]
     },
     "execution_count": 14,
     "metadata": {},
     "output_type": "execute_result"
    }
   ],
   "source": [
    "get_by_star(\"0-10\",degree_entrant)"
   ]
  },
  {
   "cell_type": "code",
   "execution_count": null,
   "metadata": {},
   "outputs": [
    {
     "name": "stdout",
     "output_type": "stream",
     "text": [
      "DiGraph with 11863 nodes and 15097 edges\n"
     ]
    }
   ],
   "source": [
    "show_graph(g_test)"
   ]
  }
 ],
 "metadata": {
  "kernelspec": {
   "display_name": "Python 3",
   "language": "python",
   "name": "python3"
  },
  "language_info": {
   "codemirror_mode": {
    "name": "ipython",
    "version": 3
   },
   "file_extension": ".py",
   "mimetype": "text/x-python",
   "name": "python",
   "nbconvert_exporter": "python",
   "pygments_lexer": "ipython3",
   "version": "3.13.2"
  }
 },
 "nbformat": 4,
 "nbformat_minor": 2
}
