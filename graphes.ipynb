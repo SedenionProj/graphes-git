{
 "cells": [
  {
   "cell_type": "code",
   "execution_count": 3,
   "metadata": {},
   "outputs": [],
   "source": [
    "import networkx as nx\n",
    "import matplotlib.pyplot as plt\n",
    "\n",
    "OUTPUT_DIR = \"dossiers_git\"\n",
    "\n",
    "'''\n",
    "stats:\n",
    "- predire nombre de requetes\n",
    "- définir les intervalles étoiles intéresent,\n",
    "- distribution des degrés entrants et degrés sortants et distribution totale\n",
    "[0, 5, 10], 0 degré 1, 5, degré 2, 10, degré 3..., (3 listes), (by networkX, degree_centrality, degree_histogram)\n",
    "- distribution : [0, 5, 10]/3 -> graphes (degrée entrant, sortant / nb total noeuds)\n",
    "- les puits : noeuds sortant degré 0,\n",
    "- ratio merge/commit\n",
    "- largeur du graph : maximum ne nombre concurentes à un instant\n",
    "- nb aretes\n",
    "autres...\n",
    "- proposition ? nombre d'aretes = nb noeuds + nb merges\n",
    "- rapport : dessin de graph, explique comment on obtiens ce graph, propriétées intéressntes, proposition\n",
    "'''\n",
    "\n",
    "def load_graph(file_path):\n",
    "    graph = nx.read_edgelist(file_path, create_using=nx.DiGraph())\n",
    "    return graph\n",
    "\n",
    "def show_graph(graph):\n",
    "    print(graph)\n",
    "\n",
    "    plt.figure(figsize=(5, min(graph.number_of_nodes()/3, 60)))\n",
    "    pos = nx.nx_pydot.pydot_layout(graph, prog='dot')\n",
    "    labels = {node: node[:7] for node in graph.nodes}\n",
    "    nodeColors = [\n",
    "        \"red\" if len(list(graph.predecessors(node))) > 1 else \"lightblue\" \n",
    "        for node in graph.nodes\n",
    "    ]\n",
    "    \n",
    "    nx.draw(graph, pos, labels=labels, font_size=8, node_color= nodeColors)\n",
    "\n",
    "\n",
    "    plt.title(\"Commit Graph\")\n",
    "    plt.show()\n",
    "\n"
   ]
  },
  {
   "cell_type": "code",
   "execution_count": null,
   "metadata": {},
   "outputs": [],
   "source": [
    "import importlib\n",
    "import statsLib as slib\n",
    "importlib.reload(slib)\n",
    "\n",
    "st = slib.Stats(\"dossiers_git\")\n",
    "#st.show_chart_by_stars(slib.MultipleValueList(\"testes\",l=[[1, 1],[2, 1],[3, 1],[4, 1],[5, 1],[4, 1],[3, 1],[2, 1],[1, 1]]).average_by_stars())\n",
    "#st.show_chart_by_stars(st.get_by_stars(st.nb_merge).div(st.get_by_stars(st.nb_commit)).div(st.get_infos_by_stars(\"forks_count\")).normalize())\n",
    "#st.show_chart_by_stars(st.get_by_stars(st.degree_entrant).average_by_stars())\n",
    "#st.show_chart_by_stars(st.get_by_stars(st.nb_commit).div(st.get_by_stars(st.nb_edges)))\n",
    "#st.show_chart_by_stars(st.get_by_stars(st.largeur))\n"
   ]
  },
  {
   "cell_type": "code",
   "execution_count": null,
   "metadata": {},
   "outputs": [],
   "source": [
    "st.show_multiple_charts_by_stars(st.get_by_stars(st.nb_commit),\n",
    "                                 st.get_infos_by_stars(\"forks_count\"),\n",
    "                                 st.get_by_stars(st.nb_edges))"
   ]
  },
  {
   "cell_type": "code",
   "execution_count": 6,
   "metadata": {},
   "outputs": [
    {
     "data": {
      "text/plain": [
       "9"
      ]
     },
     "execution_count": 6,
     "metadata": {},
     "output_type": "execute_result"
    }
   ],
   "source": [
    "def nb_requetes(nbReposPerStars:int, stars_list:list[int]):\n",
    "    return (1+(nbReposPerStars-1)//100)*(len(stars_list)-1)\n",
    "\n",
    "nb_requetes(10, [0, 10, 80, 270, 640, 1250, 2160, 3430, 5120, 7290])"
   ]
  },
  {
   "cell_type": "code",
   "execution_count": null,
   "metadata": {},
   "outputs": [],
   "source": [
    "st.show_infos()"
   ]
  },
  {
   "cell_type": "code",
   "execution_count": 114,
   "metadata": {},
   "outputs": [
    {
     "data": {
      "text/plain": [
       "[0, 5, 80, 405, 1280, 3125, 6480, 12005, 20480, 32805]"
      ]
     },
     "execution_count": 114,
     "metadata": {},
     "output_type": "execute_result"
    }
   ],
   "source": [
    "[5*i*i*i*i for i in range(10)]\n",
    "# 10 \"[0, 10, 80, 270, 640, 1250, 2160, 3430, 5120, 7290]\""
   ]
  },
  {
   "cell_type": "code",
   "execution_count": 79,
   "metadata": {},
   "outputs": [
    {
     "data": {
      "text/plain": [
       "8"
      ]
     },
     "execution_count": 79,
     "metadata": {},
     "output_type": "execute_result"
    }
   ],
   "source": [
    "from networkx import DiGraph\n",
    "from queue import Queue\n",
    "\n",
    "def largeur(g:DiGraph):\n",
    "    no_predecessors = [n for n in g.nodes if g.in_degree(n) == 0]\n",
    "\n",
    "    def max_parcours_largeur(s):\n",
    "        visite_dist = {}\n",
    "        f = Queue()\n",
    "        f.put(s)\n",
    "        visite_dist[s] = 0\n",
    "    \n",
    "        while not f.empty():\n",
    "            s = f.get()\n",
    "            dist = visite_dist[s]\n",
    "            for succ in g.successors(s):\n",
    "                if not succ in visite_dist.keys():\n",
    "                    f.put(succ)\n",
    "                    visite_dist[succ] = dist+1\n",
    "\n",
    "        compteur = {}\n",
    "        for val in visite_dist.values():\n",
    "            compteur[val] = compteur.get(val, 0) + 1\n",
    "\n",
    "        #for k, count in compteur.items():\n",
    "        #    print(f\"k = {k} apparaît {count} fois\")\n",
    "\n",
    "        return max(compteur.values())\n",
    "    \n",
    "    return max([max_parcours_largeur(s) for s in no_predecessors])\n",
    "\n",
    "g_test = load_graph(\"dossiers_git/graphs/1280-3125/10801048\")\n",
    "\n",
    "largeur(g_test)"
   ]
  },
  {
   "cell_type": "code",
   "execution_count": null,
   "metadata": {},
   "outputs": [],
   "source": [
    "g_test = load_graph(\"dossiers_git/graphs/1280-3125/10801048\")\n",
    "\n",
    "show_graph(g_test)\n",
    "\n",
    "#0-5/32908943 : arbre\n",
    "#0-5/34415219 : beaucoup degre sortants\n",
    "#20480-32805/60844036, 20480-32805/21600440 : complexe\n",
    "#0-5/32689660, 12005-20480/4696595  non connexe\n",
    "#3125-6480/92997800 : ??\n",
    "#1280-3125/10801048 : joli\n"
   ]
  },
  {
   "cell_type": "code",
   "execution_count": null,
   "metadata": {},
   "outputs": [],
   "source": [
    "import getGraphs\n",
    "#getGraphs.process_repository(\"C:/Users/Gerome/Desktop/Windows10Debloater\", \"C:/Users/Gerome/Desktop/projet graphes git/graphes-git/dossiers_git/test\")"
   ]
  }
 ],
 "metadata": {
  "kernelspec": {
   "display_name": "Python 3",
   "language": "python",
   "name": "python3"
  },
  "language_info": {
   "codemirror_mode": {
    "name": "ipython",
    "version": 3
   },
   "file_extension": ".py",
   "mimetype": "text/x-python",
   "name": "python",
   "nbconvert_exporter": "python",
   "pygments_lexer": "ipython3",
   "version": "3.13.2"
  }
 },
 "nbformat": 4,
 "nbformat_minor": 2
}
