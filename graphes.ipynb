{
 "cells": [
  {
   "cell_type": "code",
   "execution_count": 1,
   "metadata": {},
   "outputs": [],
   "source": [
    "import networkx as nx\n",
    "import matplotlib.pyplot as plt\n",
    "\n",
    "def load_graph(file_path):\n",
    "    graph = nx.read_edgelist(file_path, create_using=nx.DiGraph())\n",
    "    return graph\n",
    "\n",
    "def show_graph(graph):\n",
    "    plt.figure(figsize=(5, 60))\n",
    "\n",
    "    pos = nx.nx_pydot.pydot_layout(graph, prog='dot')\n",
    "    labels = {node: node[:7] for node in graph.nodes}\n",
    "    nodeColors = [\n",
    "        \"red\" if len(graph[node]) > 1 else \"lightblue\" \n",
    "        for node in graph.nodes\n",
    "    ]\n",
    "\n",
    "    nx.draw(graph, pos, labels=labels, font_size=8, node_color= nodeColors)\n",
    "\n",
    "\n",
    "    plt.title(\"Commit Graph (Top to Bottom)\")\n",
    "    plt.show()\n"
   ]
  }
 ],
 "metadata": {
  "kernelspec": {
   "display_name": "Python 3",
   "language": "python",
   "name": "python3"
  },
  "language_info": {
   "codemirror_mode": {
    "name": "ipython",
    "version": 3
   },
   "file_extension": ".py",
   "mimetype": "text/x-python",
   "name": "python",
   "nbconvert_exporter": "python",
   "pygments_lexer": "ipython3",
   "version": "3.13.2"
  }
 },
 "nbformat": 4,
 "nbformat_minor": 2
}
