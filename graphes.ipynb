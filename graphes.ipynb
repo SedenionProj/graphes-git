{
 "cells": [
  {
   "cell_type": "code",
   "execution_count": null,
   "metadata": {},
   "outputs": [],
   "source": [
    "import networkx as nx\n",
    "import matplotlib.pyplot as plt\n",
    "\n",
    "OUTPUT_DIR = \"dossiers_git\"\n",
    "\n",
    "'''\n",
    "stats:\n",
    "- predire nombre de requetes\n",
    "- définir les intervalles étoiles intéresent,\n",
    "- distribution des degrés entrants et degrés sortants et distribution totale\n",
    "[0, 5, 10], 0 degré 1, 5, degré 2, 10, degré 3..., (3 listes), (by networkX, degree_centrality, degree_histogram)\n",
    "- distribution : [0, 5, 10]/3 -> graphes (degrée entrant, sortant / nb total noeuds)\n",
    "- les puits : noeuds sortant degré 0,\n",
    "- ratio merge/commit\n",
    "- largeur du graph : maximum ne nombre concurentes à un instant\n",
    "- nb aretes\n",
    "autres...\n",
    "- proposition ? nombre d'aretes = nb noeuds + nb merges\n",
    "- rapport : dessin de graph, explique comment on obtiens ce graph, propriétées intéressntes, proposition\n",
    "'''\n",
    "\n",
    "def load_graph(file_path):\n",
    "    graph = nx.read_edgelist(file_path, create_using=nx.DiGraph())\n",
    "    return graph\n",
    "\n",
    "def show_graph(graph):\n",
    "    print(graph)\n",
    "    plt.figure(figsize=(5, 55))\n",
    "    pos = nx.nx_pydot.pydot_layout(graph, prog='dot')\n",
    "    labels = {node: node[:7] for node in graph.nodes}\n",
    "    nodeColors = [\n",
    "        \"red\" if len(list(graph.predecessors(node))) > 1 else \"lightblue\" \n",
    "        for node in graph.nodes\n",
    "    ]\n",
    "\n",
    "    nx.draw(graph, pos, labels=labels, font_size=8, node_color= nodeColors)\n",
    "\n",
    "\n",
    "    plt.title(\"Commit Graph\")\n",
    "    plt.show()\n",
    "\n",
    "g_test = load_graph(\"dossiers_git/graphs/500-1000/111927594\")"
   ]
  },
  {
   "cell_type": "code",
   "execution_count": 193,
   "metadata": {},
   "outputs": [],
   "source": [
    "import importlib\n",
    "import statsLib as slib\n",
    "importlib.reload(slib)\n",
    "\n",
    "st = slib.Stats(\"dossiers_git\")\n",
    "#st.show_chart_by_stars(slib.MultipleValueList(\"testes\",l=[[1, 1],[2, 1],[3, 1],[4, 1],[5, 1]]))\n",
    "#st.show_chart_by_stars(st.get_by_stars(st.nb_merge).div(st.get_by_stars(st.nb_commit)).div(st.get_infos_by_stars(\"forks_count\")).normalize())\n"
   ]
  },
  {
   "cell_type": "code",
   "execution_count": 188,
   "metadata": {},
   "outputs": [
    {
     "data": {
      "text/plain": [
       "60"
      ]
     },
     "execution_count": 188,
     "metadata": {},
     "output_type": "execute_result"
    }
   ],
   "source": [
    "def nb_requetes(nbReposPerStars:int, stars_list:list[int]):\n",
    "    return (1+(nbReposPerStars-1)//100)*(len(stars_list)-1)\n",
    "\n",
    "nb_requetes(456, [0, 10, 20, 30, 54, 546,45,546 ,546, 546, 546, 546, 465])"
   ]
  }
 ],
 "metadata": {
  "kernelspec": {
   "display_name": "Python 3",
   "language": "python",
   "name": "python3"
  },
  "language_info": {
   "codemirror_mode": {
    "name": "ipython",
    "version": 3
   },
   "file_extension": ".py",
   "mimetype": "text/x-python",
   "name": "python",
   "nbconvert_exporter": "python",
   "pygments_lexer": "ipython3",
   "version": "3.13.2"
  }
 },
 "nbformat": 4,
 "nbformat_minor": 2
}
