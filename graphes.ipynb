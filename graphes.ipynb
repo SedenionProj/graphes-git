{
 "cells": [
  {
   "cell_type": "code",
   "execution_count": 7,
   "metadata": {},
   "outputs": [],
   "source": [
    "import git\n",
    "import networkx as nx\n",
    "import matplotlib.pyplot as plt\n",
    "\n",
    "def show_graph(graph):\n",
    "    plt.figure(figsize=(5, 60))\n",
    "\n",
    "    pos = nx.nx_pydot.pydot_layout(graph, prog='dot')\n",
    "    labels = {node: node[:7] for node in graph.nodes}\n",
    "    nodeColors = [\n",
    "        \"red\" if len(graph[node]) > 1 else \"lightblue\" \n",
    "        for node in graph.nodes\n",
    "    ]\n",
    "\n",
    "    nx.draw(graph, pos, labels=labels, font_size=8, node_color= nodeColors)\n",
    "\n",
    "\n",
    "    plt.title(\"Commit Graph (Top to Bottom)\")\n",
    "    plt.show()\n"
   ]
  },
  {
   "cell_type": "code",
   "execution_count": 13,
   "metadata": {},
   "outputs": [
    {
     "name": "stdout",
     "output_type": "stream",
     "text": [
      "DiGraph with 353 nodes and 400 edges\n"
     ]
    }
   ],
   "source": [
    "def save_graph(file_path, graph):\n",
    "    with open(file_path, 'wb') as f:\n",
    "        nx.write_edgelist(graph, f, data=False)\n",
    "\n",
    "def process_repository(repo_path, output_path):\n",
    "    repo = git.Repo(repo_path)\n",
    "    \n",
    "    g = {}\n",
    "\n",
    "    for commit in repo.iter_commits('--all'):\n",
    "        commit_hash = str(commit)\n",
    "        parents = [str(parent) for parent in commit.parents]\n",
    "\n",
    "        if commit_hash not in g:\n",
    "            g[commit_hash] = set()\n",
    "        g[commit_hash].update(parents)\n",
    "\n",
    "    graph = nx.DiGraph(g)\n",
    "\n",
    "\n",
    "    print(graph)\n",
    "    #show_graph(graph)\n",
    "\n",
    "    save_graph(output_path, graph)\n",
    "\n",
    "\n",
    "# https://github.com/Sycnex/Windows10Debloater/commits/master/?before=a48b4d8dc501680e0edc31f840791c966d89d309+35\n",
    "process_repository(\"C:/Users/Gerome/Desktop/graphes-git/dossiers_git/Windows10Debloater\", \"C:/Users/Gerome/Desktop/graphes-git/dossiers_git/test\")"
   ]
  },
  {
   "cell_type": "code",
   "execution_count": null,
   "metadata": {},
   "outputs": [
    {
     "data": {
      "text/plain": [
       "<networkx.classes.digraph.DiGraph at 0x19e47a457c0>"
      ]
     },
     "execution_count": 14,
     "metadata": {},
     "output_type": "execute_result"
    }
   ],
   "source": [
    "def load_graph(file_path):\n",
    "    graph = nx.read_edgelist(file_path, create_using=nx.DiGraph())\n",
    "    return graph\n",
    "\n",
    "G = load_graph(\"C:/Users/Gerome/Desktop/graphes-git/dossiers_git/test\")\n",
    "#show_graph(G)"
   ]
  },
  {
   "cell_type": "code",
   "execution_count": 2,
   "metadata": {},
   "outputs": [
    {
     "name": "stdout",
     "output_type": "stream",
     "text": [
      "[{'id': 33043794, 'language': 'Crystal', 'full_name': 'generate-cr/library.template', 'clone_url': 'https://github.com/generate-cr/library.template.git', 'forks_count': 1, 'open_issues_count': 1, 'size': 236, 'stargazers_count': 5, 'created_at': '2015-03-28T17:51:53Z', 'updated_at': 'generate-cr/library.template', 'pushed_at': '2015-04-11T21:56:53Z'}, {'id': 33077982, 'language': 'JavaScript', 'full_name': 'zpratt/coffee-hunt', 'clone_url': 'https://github.com/zpratt/coffee-hunt.git', 'forks_count': 1, 'open_issues_count': 0, 'size': 152, 'stargazers_count': 5, 'created_at': '2015-03-29T15:23:18Z', 'updated_at': 'zpratt/coffee-hunt', 'pushed_at': '2015-04-05T03:43:50Z'}, {'id': 33120021, 'language': 'JavaScript', 'full_name': 'vadimdemedes/leeroy-jenkins', 'clone_url': 'https://github.com/vadimdemedes/leeroy-jenkins.git', 'forks_count': 1, 'open_issues_count': 0, 'size': 685, 'stargazers_count': 5, 'created_at': '2015-03-30T11:46:47Z', 'updated_at': 'vadimdemedes/leeroy-jenkins', 'pushed_at': '2015-03-30T11:49:02Z'}, {'id': 33147896, 'language': 'Shell', 'full_name': 'gglnx/docker-frab', 'clone_url': 'https://github.com/gglnx/docker-frab.git', 'forks_count': 0, 'open_issues_count': 0, 'size': 7, 'stargazers_count': 5, 'created_at': '2015-03-30T21:00:19Z', 'updated_at': 'gglnx/docker-frab', 'pushed_at': '2015-12-20T12:05:31Z'}, {'id': 33122378, 'language': 'C++', 'full_name': 'harre-orz/acqua', 'clone_url': 'https://github.com/harre-orz/acqua.git', 'forks_count': 1, 'open_issues_count': 0, 'size': 1915, 'stargazers_count': 5, 'created_at': '2015-03-30T12:41:50Z', 'updated_at': 'harre-orz/acqua', 'pushed_at': '2016-11-09T04:23:48Z'}, {'id': 32689660, 'language': 'HTML', 'full_name': 'bradleytrager/angular-combo-box', 'clone_url': 'https://github.com/bradleytrager/angular-combo-box.git', 'forks_count': 7, 'open_issues_count': 2, 'size': 1466, 'stargazers_count': 5, 'created_at': '2015-03-22T18:45:47Z', 'updated_at': 'bradleytrager/angular-combo-box', 'pushed_at': '2015-09-01T02:14:37Z'}, {'id': 32908943, 'language': 'HTML', 'full_name': 'mohitkgupta/expressionoasis', 'clone_url': 'https://github.com/mohitkgupta/expressionoasis.git', 'forks_count': 4, 'open_issues_count': 7, 'size': 12553, 'stargazers_count': 5, 'created_at': '2015-03-26T05:18:33Z', 'updated_at': 'mohitkgupta/expressionoasis', 'pushed_at': '2023-01-29T05:38:31Z'}, {'id': 34416389, 'language': None, 'full_name': 'progress/CDO', 'clone_url': 'https://github.com/progress/CDO.git', 'forks_count': 2, 'open_issues_count': 0, 'size': 6197, 'stargazers_count': 5, 'created_at': '2015-04-22T21:16:29Z', 'updated_at': 'progress/CDO', 'pushed_at': '2018-12-07T18:31:47Z'}]\n"
     ]
    }
   ],
   "source": [
    "import json\n",
    "\n",
    "def load_repos_from_json(filename):\n",
    "    with open(filename, \"r\") as f:\n",
    "        return json.load(f)\n",
    "\n",
    "repos = load_repos_from_json(\"C:/Users/Gerome/Desktop/graphes-git/dossiers_git/repos_info.json\")\n",
    "print(repos)"
   ]
  }
 ],
 "metadata": {
  "kernelspec": {
   "display_name": "Python 3",
   "language": "python",
   "name": "python3"
  },
  "language_info": {
   "codemirror_mode": {
    "name": "ipython",
    "version": 3
   },
   "file_extension": ".py",
   "mimetype": "text/x-python",
   "name": "python",
   "nbconvert_exporter": "python",
   "pygments_lexer": "ipython3",
   "version": "3.13.2"
  }
 },
 "nbformat": 4,
 "nbformat_minor": 2
}
