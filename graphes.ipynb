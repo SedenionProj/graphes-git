{
 "cells": [
  {
   "cell_type": "code",
   "execution_count": 9,
   "metadata": {},
   "outputs": [],
   "source": [
    "import networkx as nx\n",
    "import matplotlib.pyplot as plt\n",
    "import pickle\n",
    "\n",
    "def load_graph(file_path):\n",
    "    with open(file_path, 'rb') as f:\n",
    "        graph = pickle.load(f)\n",
    "    return graph\n",
    "\n",
    "def show_graph(graph):\n",
    "    print(graph)\n",
    "\n",
    "    plt.figure(figsize=(5, min(graph.number_of_nodes()/3, 60)))\n",
    "    pos = nx.nx_pydot.pydot_layout(graph, prog='dot')\n",
    "    labels = {node: node[:7] for node in graph.nodes}\n",
    "    nodeColors = [\n",
    "        data.get(\"color\", \"gray\")\n",
    "        for _, data in graph.nodes(data=True)\n",
    "    ]\n",
    "    \n",
    "    nx.draw(graph,pos, labels=labels,  font_size=8, node_color= nodeColors)\n",
    "\n",
    "    plt.title(\"Commit Graph\")\n",
    "    plt.show()\n",
    "\n"
   ]
  },
  {
   "cell_type": "code",
   "execution_count": 38,
   "metadata": {},
   "outputs": [],
   "source": [
    "import importlib\n",
    "import statsLib as slib\n",
    "importlib.reload(slib)\n",
    "\n",
    "st = slib.Stats(\"dossiers_git\")\n",
    "#st.show_chart_by_stars(st.get_infos_by_stars(\"forks_count\").normalize().div(st.get_by_stars(st.nb_commit)))\n",
    "#st.show_chart_by_stars(st.get_by_stars(st.degree_entrant))\n",
    "#st.show_chart_by_stars(st.get_by_stars(st.nb_merges).div(st.get_by_stars(st.nb_commit)))\n",
    "#st.show_chart_by_stars(st.get_by_stars(st.nb_merges_diff_auteurs))\n",
    "#st.show_chart_by_stars(st.get_by_stars(st.connexe))\n"
   ]
  },
  {
   "cell_type": "code",
   "execution_count": 22,
   "metadata": {},
   "outputs": [],
   "source": [
    "#st.show_multiple_charts_by_stars(st.get_infos_by_stars(\"forks_count\").normalize(),\n",
    "#                                 st.get_infos_by_stars(\"open_issues_count\").normalize(),\n",
    "#                                 st.get_infos_by_stars(\"size\").normalize(),\n",
    "#                                 st.get_by_stars(st.nb_commit).normalize(),\n",
    "#                                 st.get_by_stars(st.nb_merges).normalize(),\n",
    "#                                 st.get_by_stars(st.nb_edges).normalize(),\n",
    "#                                 st.get_by_stars(st.connexe).normalize())"
   ]
  },
  {
   "cell_type": "code",
   "execution_count": 12,
   "metadata": {},
   "outputs": [
    {
     "data": {
      "text/plain": [
       "9"
      ]
     },
     "execution_count": 12,
     "metadata": {},
     "output_type": "execute_result"
    }
   ],
   "source": [
    "def nb_requetes(nbReposPerStars:int, stars_list:list[int]):\n",
    "    return (1+(nbReposPerStars-1)//100)*(len(stars_list)-1)\n",
    "\n",
    "nb_requetes(10, [0, 10, 80, 270, 640, 1250, 2160, 3430, 5120, 7290])"
   ]
  },
  {
   "cell_type": "code",
   "execution_count": 23,
   "metadata": {},
   "outputs": [],
   "source": [
    "#st.show_infos()"
   ]
  },
  {
   "cell_type": "code",
   "execution_count": 20,
   "metadata": {},
   "outputs": [
    {
     "data": {
      "text/plain": [
       "[0, 10, 80, 270, 640, 1250, 2160, 3430, 5120, 7290]"
      ]
     },
     "execution_count": 20,
     "metadata": {},
     "output_type": "execute_result"
    }
   ],
   "source": [
    "[10*i*i*i for i in range(10)]\n",
    "# 50 \"[0, 10, 80, 270, 640, 1250, 2160, 3430, 5120, 7290]\""
   ]
  },
  {
   "cell_type": "code",
   "execution_count": null,
   "metadata": {},
   "outputs": [
    {
     "data": {
      "text/plain": [
       "2"
      ]
     },
     "execution_count": 29,
     "metadata": {},
     "output_type": "execute_result"
    }
   ],
   "source": [
    "from networkx import DiGraph\n",
    "from queue import Queue\n",
    "\n",
    "def largeur(g:DiGraph):\n",
    "    no_predecessors = [n for n in g.nodes if g.in_degree(n) == 0]\n",
    "\n",
    "    def max_parcours_largeur(s):\n",
    "        visite_dist = {}\n",
    "        f = Queue()\n",
    "        f.put(s)\n",
    "        visite_dist[s] = 0\n",
    "    \n",
    "        while not f.empty():\n",
    "            s = f.get()\n",
    "            dist = visite_dist[s]\n",
    "            for succ in g.successors(s):\n",
    "                if not succ in visite_dist.keys():\n",
    "                    f.put(succ)\n",
    "                    visite_dist[succ] = dist+1\n",
    "\n",
    "        compteur = {}\n",
    "        for val in visite_dist.values():\n",
    "            compteur[val] = compteur.get(val, 0) + 1\n",
    "\n",
    "        return max(compteur.values())\n",
    "    \n",
    "    return max([max_parcours_largeur(s) for s in no_predecessors])\n",
    "\n",
    "g_test = load_graph(\"dossiers_git/graphs/0-5/32689660\")\n",
    "\n",
    "largeur(g_test)"
   ]
  },
  {
   "cell_type": "code",
   "execution_count": 24,
   "metadata": {},
   "outputs": [],
   "source": [
    "g_test = load_graph(\"dossiers_git/graphs/640-1250/13519594\")\n",
    "\n",
    "#show_graph(g_test)\n"
   ]
  },
  {
   "cell_type": "code",
   "execution_count": 19,
   "metadata": {},
   "outputs": [],
   "source": [
    "import getGraphs\n",
    "#getGraphs.process_repository(\"C:/Users/Gerome/Desktop/Windows10Debloater\", \"C:/Users/Gerome/Desktop/projet graphes git/graphes-git/dossiers_git/test\")\n",
    "#w10 = load_graph(\"dossiers_git/test\")\n",
    "#show_graph(w10)"
   ]
  }
 ],
 "metadata": {
  "kernelspec": {
   "display_name": "Python 3",
   "language": "python",
   "name": "python3"
  },
  "language_info": {
   "codemirror_mode": {
    "name": "ipython",
    "version": 3
   },
   "file_extension": ".py",
   "mimetype": "text/x-python",
   "name": "python",
   "nbconvert_exporter": "python",
   "pygments_lexer": "ipython3",
   "version": "3.13.2"
  }
 },
 "nbformat": 4,
 "nbformat_minor": 2
}
